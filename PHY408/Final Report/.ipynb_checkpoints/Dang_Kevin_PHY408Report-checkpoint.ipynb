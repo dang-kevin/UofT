{
 "cells": [
  {
   "cell_type": "markdown",
   "metadata": {},
   "source": [
    "# Introduction"
   ]
  },
  {
   "cell_type": "markdown",
   "metadata": {},
   "source": [
    "COVID-19, also known as the coronavirus was declared as a global pandemic by the World Health Organization on March 11, 2020. The first known case occurred in mid-November and the first confirmed death occured mid-January. This may not be accurate due to numerous cases being labelled as influenza or pneumonia as a direct result of lack of testing and censorship by the Government of China. Unfortunately, COVID-19 has spread throughout the world with 1.7 million confirmed cases and 100,000 confirmed deaths at the time of writing. While there is little we can do about the past, we can look towards the future. Our analysis will aim to determine when the rate of increase in COVID-19 cases will start its decline.\n",
    "\n",
    "Despite the fact that the coronvirus outbreak originated in Wuhan, China, the increase in the number of cases have declined for the country as a whole. There is a lot of uncertainty about how vastly underreported their numbers are, especially as some experts estimate there could be 40 times their current reported cases. However, this is the data we have and we can use China's cases to try and estimate when the increase in the number of cases in Canada will begin to slow if we follow proper social distancing and self-isolation protocols."
   ]
  },
  {
   "cell_type": "markdown",
   "metadata": {},
   "source": [
    "# Methods"
   ]
  },
  {
   "cell_type": "markdown",
   "metadata": {},
   "source": [
    "Historically, epidemics and pandemics tend to follow a logistic growth pattern. The number of cases starts off small, then we see an exponential increase which eventually starts to slow down and reach a plateau. This is the pattern of a sigmoid. The formula for logistic growth is:\n",
    "\n",
    "\\begin{equation} \\label{eq:1}\n",
    "y(t) = \\frac{c}{1 + a \\cdot e^{-bt}}\n",
    "\\end{equation}\n",
    "\n",
    "Where y(t) is the number of cases at a time t, c is the maximum number of cases , a and b are constants that can be modified (b > 0). Also note that the maximum growth rate occurs at t = ln(a)/b, y(t) = c/2.\n",
    "\n",
    "With this information we can figure out the number of days it took China to reach the maximum growth rate inflection point. We also know that this point represents half of the maximum number of cases. We can then compare this logistic model to Canada's cases, and estimate the time lag between Canada and China. The next step is to use an exponential model to extrapolate the data in Canada until we reach the maximum growth rate. Then we can estimate the maximum number of cases, or at least have a number where we think we will reach a plateau.\n",
    "\n",
    "Exponential growth takes the form of:\n",
    "\n",
    "\\begin{equation} \\label{eq:2}\n",
    "y(t) = y_0 \\cdot b^t\n",
    "\\end{equation}\n",
    "\n",
    "Where x(t) is the number of cases at a time t, $y_0$ is the initial value, b is the growth factor (number of people infected per infected individual)."
   ]
  },
  {
   "cell_type": "markdown",
   "metadata": {},
   "source": [
    "# Results"
   ]
  },
  {
   "cell_type": "code",
   "execution_count": 1,
   "metadata": {},
   "outputs": [],
   "source": [
    "import numpy as np\n",
    "import pandas as pd\n",
    "import matplotlib.pyplot as plt\n",
    "import seaborn as sns\n",
    "import scipy.optimize as opt\n",
    "import datetime\n",
    "\n",
    "covid = pd.read_csv('full_data.csv')\n",
    "covid['date'] =  pd.to_datetime(covid['date'])\n",
    "canada = covid.loc[covid['location']=='Canada'].reset_index()\n",
    "china = covid.loc[covid['location']=='China'].reset_index()"
   ]
  },
  {
   "cell_type": "code",
   "execution_count": 2,
   "metadata": {},
   "outputs": [
    {
     "name": "stdout",
     "output_type": "stream",
     "text": [
      "[7466.835022288715, 0.22070808322705104, 81683.50258532478]\n",
      "40.0 days, 40842.0 cases\n",
      "date: 2020-02-09 00:00:00\n"
     ]
    }
   ],
   "source": [
    "def logistic(t,a,b,c):\n",
    "    return c/(1+a*np.exp(-b*t))\n",
    "\n",
    "t = np.arange(0,len(china),1)\n",
    "y = np.array(china['total_cases'])\n",
    "#p0 = np.random.exponential(size=3)\n",
    "(a,b,c), cov = opt.curve_fit(logistic,t,y)\n",
    "print([a,b,c])\n",
    "max_growth_t = np.log(a)/b\n",
    "#max_growth_y = c/2\n",
    "max_growth_y = logistic(max_growth_t,a,b,c)\n",
    "print(max_growth_t.round(),'days,',max_growth_y.round(),'cases')\n",
    "print('date:',china['date'][40])"
   ]
  },
  {
   "cell_type": "code",
   "execution_count": 3,
   "metadata": {},
   "outputs": [
    {
     "name": "stderr",
     "output_type": "stream",
     "text": [
      "C:\\Users\\dangk\\Anaconda3\\lib\\site-packages\\pandas\\plotting\\_converter.py:129: FutureWarning: Using an implicitly registered datetime converter for a matplotlib plotting method. The converter was registered by pandas on import. Future versions of pandas will require you to explicitly register matplotlib converters.\n",
      "\n",
      "To register the converters:\n",
      "\t>>> from pandas.plotting import register_matplotlib_converters\n",
      "\t>>> register_matplotlib_converters()\n",
      "  warnings.warn(msg, FutureWarning)\n"
     ]
    },
    {
     "data": {
      "image/png": "[encoded data removed]",
      "text/plain": [
       "<Figure size 576x360 with 1 Axes>"
      ]
     },
     "metadata": {
      "needs_background": "light"
     },
     "output_type": "display_data"
    }
   ],
   "source": [
    "plt.figure(figsize=(8,5))\n",
    "sns.scatterplot(china['date'],china['total_cases'],color='orange',label='Data')\n",
    "sns.lineplot(china['date'],logistic(t,a,b,c),label='Logistic Model')\n",
    "plt.xlim(min(china['date']),max(china['date']))\n",
    "plt.title('COVID-19 Cases China')\n",
    "plt.show()"
   ]
  },
  {
   "cell_type": "markdown",
   "metadata": {},
   "source": [
    "The logistic model in Figure 1 has the following coefficients from equation 1: $a = 7467, b = 0.2207, c = 81684$. Plugging them into the equation, we get:\n",
    "\\begin{equation} \\label{eq:3}\n",
    "y(t) = \\frac{81684}{1 + 7467 \\cdot e^{-0.2207t}}\n",
    "\\end{equation}\n",
    "\n",
    "From equation 3, we know that the max growth rate of cases in China occurs at $t = \\ln(a)/b = \\ln(7467)/0.2207 \\approx 40$ days, or on February 9, 2020. On this date, the model interpolates the number of cases as 40,842."
   ]
  },
  {
   "cell_type": "code",
   "execution_count": 4,
   "metadata": {},
   "outputs": [
    {
     "data": {
      "text/html": [
       "<div>\n",
       "<style scoped>\n",
       "    .dataframe tbody tr th:only-of-type {\n",
       "        vertical-align: middle;\n",
       "    }\n",
       "\n",
       "    .dataframe tbody tr th {\n",
       "        vertical-align: top;\n",
       "    }\n",
       "\n",
       "    .dataframe thead th {\n",
       "        text-align: right;\n",
       "    }\n",
       "</style>\n",
       "<table border=\"1\" class=\"dataframe\">\n",
       "  <thead>\n",
       "    <tr style=\"text-align: right;\">\n",
       "      <th></th>\n",
       "      <th>index</th>\n",
       "      <th>date</th>\n",
       "      <th>location</th>\n",
       "      <th>new_cases</th>\n",
       "      <th>new_deaths</th>\n",
       "      <th>total_cases</th>\n",
       "      <th>total_deaths</th>\n",
       "    </tr>\n",
       "  </thead>\n",
       "  <tbody>\n",
       "    <tr>\n",
       "      <th>86</th>\n",
       "      <td>2154</td>\n",
       "      <td>2020-03-26</td>\n",
       "      <td>China</td>\n",
       "      <td>102</td>\n",
       "      <td>6</td>\n",
       "      <td>81733</td>\n",
       "      <td>3291</td>\n",
       "    </tr>\n",
       "    <tr>\n",
       "      <th>87</th>\n",
       "      <td>2155</td>\n",
       "      <td>2020-03-27</td>\n",
       "      <td>China</td>\n",
       "      <td>94</td>\n",
       "      <td>5</td>\n",
       "      <td>81827</td>\n",
       "      <td>3296</td>\n",
       "    </tr>\n",
       "    <tr>\n",
       "      <th>88</th>\n",
       "      <td>2156</td>\n",
       "      <td>2020-03-28</td>\n",
       "      <td>China</td>\n",
       "      <td>119</td>\n",
       "      <td>3</td>\n",
       "      <td>81946</td>\n",
       "      <td>3299</td>\n",
       "    </tr>\n",
       "    <tr>\n",
       "      <th>89</th>\n",
       "      <td>2157</td>\n",
       "      <td>2020-03-29</td>\n",
       "      <td>China</td>\n",
       "      <td>113</td>\n",
       "      <td>5</td>\n",
       "      <td>82059</td>\n",
       "      <td>3304</td>\n",
       "    </tr>\n",
       "    <tr>\n",
       "      <th>90</th>\n",
       "      <td>2158</td>\n",
       "      <td>2020-03-30</td>\n",
       "      <td>China</td>\n",
       "      <td>98</td>\n",
       "      <td>2</td>\n",
       "      <td>82157</td>\n",
       "      <td>3306</td>\n",
       "    </tr>\n",
       "    <tr>\n",
       "      <th>91</th>\n",
       "      <td>2159</td>\n",
       "      <td>2020-03-31</td>\n",
       "      <td>China</td>\n",
       "      <td>84</td>\n",
       "      <td>3</td>\n",
       "      <td>82241</td>\n",
       "      <td>3309</td>\n",
       "    </tr>\n",
       "    <tr>\n",
       "      <th>92</th>\n",
       "      <td>2160</td>\n",
       "      <td>2020-04-01</td>\n",
       "      <td>China</td>\n",
       "      <td>54</td>\n",
       "      <td>1</td>\n",
       "      <td>82295</td>\n",
       "      <td>3310</td>\n",
       "    </tr>\n",
       "    <tr>\n",
       "      <th>93</th>\n",
       "      <td>2161</td>\n",
       "      <td>2020-04-02</td>\n",
       "      <td>China</td>\n",
       "      <td>100</td>\n",
       "      <td>6</td>\n",
       "      <td>82395</td>\n",
       "      <td>3316</td>\n",
       "    </tr>\n",
       "    <tr>\n",
       "      <th>94</th>\n",
       "      <td>2162</td>\n",
       "      <td>2020-04-03</td>\n",
       "      <td>China</td>\n",
       "      <td>70</td>\n",
       "      <td>10</td>\n",
       "      <td>82465</td>\n",
       "      <td>3326</td>\n",
       "    </tr>\n",
       "    <tr>\n",
       "      <th>95</th>\n",
       "      <td>2163</td>\n",
       "      <td>2020-04-04</td>\n",
       "      <td>China</td>\n",
       "      <td>62</td>\n",
       "      <td>4</td>\n",
       "      <td>82527</td>\n",
       "      <td>3330</td>\n",
       "    </tr>\n",
       "    <tr>\n",
       "      <th>96</th>\n",
       "      <td>2164</td>\n",
       "      <td>2020-04-05</td>\n",
       "      <td>China</td>\n",
       "      <td>48</td>\n",
       "      <td>3</td>\n",
       "      <td>82575</td>\n",
       "      <td>3333</td>\n",
       "    </tr>\n",
       "    <tr>\n",
       "      <th>97</th>\n",
       "      <td>2165</td>\n",
       "      <td>2020-04-06</td>\n",
       "      <td>China</td>\n",
       "      <td>67</td>\n",
       "      <td>2</td>\n",
       "      <td>82642</td>\n",
       "      <td>3335</td>\n",
       "    </tr>\n",
       "    <tr>\n",
       "      <th>98</th>\n",
       "      <td>2166</td>\n",
       "      <td>2020-04-07</td>\n",
       "      <td>China</td>\n",
       "      <td>56</td>\n",
       "      <td>0</td>\n",
       "      <td>82698</td>\n",
       "      <td>3335</td>\n",
       "    </tr>\n",
       "    <tr>\n",
       "      <th>99</th>\n",
       "      <td>2167</td>\n",
       "      <td>2020-04-08</td>\n",
       "      <td>China</td>\n",
       "      <td>86</td>\n",
       "      <td>2</td>\n",
       "      <td>82784</td>\n",
       "      <td>3337</td>\n",
       "    </tr>\n",
       "    <tr>\n",
       "      <th>100</th>\n",
       "      <td>2168</td>\n",
       "      <td>2020-04-09</td>\n",
       "      <td>China</td>\n",
       "      <td>86</td>\n",
       "      <td>2</td>\n",
       "      <td>82870</td>\n",
       "      <td>3339</td>\n",
       "    </tr>\n",
       "    <tr>\n",
       "      <th>101</th>\n",
       "      <td>2169</td>\n",
       "      <td>2020-04-10</td>\n",
       "      <td>China</td>\n",
       "      <td>55</td>\n",
       "      <td>1</td>\n",
       "      <td>82925</td>\n",
       "      <td>3340</td>\n",
       "    </tr>\n",
       "    <tr>\n",
       "      <th>102</th>\n",
       "      <td>2170</td>\n",
       "      <td>2020-04-11</td>\n",
       "      <td>China</td>\n",
       "      <td>79</td>\n",
       "      <td>3</td>\n",
       "      <td>83004</td>\n",
       "      <td>3343</td>\n",
       "    </tr>\n",
       "    <tr>\n",
       "      <th>103</th>\n",
       "      <td>2171</td>\n",
       "      <td>2020-04-12</td>\n",
       "      <td>China</td>\n",
       "      <td>93</td>\n",
       "      <td>0</td>\n",
       "      <td>83097</td>\n",
       "      <td>3343</td>\n",
       "    </tr>\n",
       "    <tr>\n",
       "      <th>104</th>\n",
       "      <td>2172</td>\n",
       "      <td>2020-04-13</td>\n",
       "      <td>China</td>\n",
       "      <td>112</td>\n",
       "      <td>2</td>\n",
       "      <td>83209</td>\n",
       "      <td>3345</td>\n",
       "    </tr>\n",
       "    <tr>\n",
       "      <th>105</th>\n",
       "      <td>2173</td>\n",
       "      <td>2020-04-14</td>\n",
       "      <td>China</td>\n",
       "      <td>94</td>\n",
       "      <td>0</td>\n",
       "      <td>83303</td>\n",
       "      <td>3345</td>\n",
       "    </tr>\n",
       "    <tr>\n",
       "      <th>106</th>\n",
       "      <td>2174</td>\n",
       "      <td>2020-04-15</td>\n",
       "      <td>China</td>\n",
       "      <td>49</td>\n",
       "      <td>1</td>\n",
       "      <td>83352</td>\n",
       "      <td>3346</td>\n",
       "    </tr>\n",
       "  </tbody>\n",
       "</table>\n",
       "</div>"
      ],
      "text/plain": [
       "     index       date location  new_cases  new_deaths  total_cases  \\\n",
       "86    2154 2020-03-26    China        102           6        81733   \n",
       "87    2155 2020-03-27    China         94           5        81827   \n",
       "88    2156 2020-03-28    China        119           3        81946   \n",
       "89    2157 2020-03-29    China        113           5        82059   \n",
       "90    2158 2020-03-30    China         98           2        82157   \n",
       "91    2159 2020-03-31    China         84           3        82241   \n",
       "92    2160 2020-04-01    China         54           1        82295   \n",
       "93    2161 2020-04-02    China        100           6        82395   \n",
       "94    2162 2020-04-03    China         70          10        82465   \n",
       "95    2163 2020-04-04    China         62           4        82527   \n",
       "96    2164 2020-04-05    China         48           3        82575   \n",
       "97    2165 2020-04-06    China         67           2        82642   \n",
       "98    2166 2020-04-07    China         56           0        82698   \n",
       "99    2167 2020-04-08    China         86           2        82784   \n",
       "100   2168 2020-04-09    China         86           2        82870   \n",
       "101   2169 2020-04-10    China         55           1        82925   \n",
       "102   2170 2020-04-11    China         79           3        83004   \n",
       "103   2171 2020-04-12    China         93           0        83097   \n",
       "104   2172 2020-04-13    China        112           2        83209   \n",
       "105   2173 2020-04-14    China         94           0        83303   \n",
       "106   2174 2020-04-15    China         49           1        83352   \n",
       "\n",
       "     total_deaths  \n",
       "86           3291  \n",
       "87           3296  \n",
       "88           3299  \n",
       "89           3304  \n",
       "90           3306  \n",
       "91           3309  \n",
       "92           3310  \n",
       "93           3316  \n",
       "94           3326  \n",
       "95           3330  \n",
       "96           3333  \n",
       "97           3335  \n",
       "98           3335  \n",
       "99           3337  \n",
       "100          3339  \n",
       "101          3340  \n",
       "102          3343  \n",
       "103          3343  \n",
       "104          3345  \n",
       "105          3345  \n",
       "106          3346  "
      ]
     },
     "execution_count": 4,
     "metadata": {},
     "output_type": "execute_result"
    }
   ],
   "source": [
    "china[china['total_cases'] > c]"
   ]
  },
  {
   "cell_type": "code",
   "execution_count": 5,
   "metadata": {},
   "outputs": [
    {
     "data": {
      "image/png": "[encoded data removed]",
      "text/plain": [
       "<Figure size 576x360 with 1 Axes>"
      ]
     },
     "metadata": {
      "needs_background": "light"
     },
     "output_type": "display_data"
    }
   ],
   "source": [
    "date = canada['date'].append(canada['date']+pd.DateOffset(days=len(canada)))\n",
    "plt.figure(figsize=(8,5))\n",
    "sns.scatterplot(canada['date'],canada['total_cases'],color='red',label='Data')\n",
    "sns.lineplot(date,logistic(np.arange(0,len(date),1)-63,a,b,c),label='China Logistic Model')\n",
    "plt.xlim(min(date),max(date))\n",
    "plt.title('COVID-19 Cases Canada, compared with China')\n",
    "plt.show()"
   ]
  },
  {
   "cell_type": "markdown",
   "metadata": {},
   "source": [
    "We note from Figure 2 that there is approximately a 63 day delay - Canada did not report their first case until 26 days after data was collected, and the acceleration began much later (about 37 days to yield a 63 day shift). This 63 day shift does not fit the Canada data points well, but it is a helpful guide to estimate the length of the delay."
   ]
  },
  {
   "cell_type": "code",
   "execution_count": 6,
   "metadata": {},
   "outputs": [
    {
     "name": "stdout",
     "output_type": "stream",
     "text": [
      "[1.1773332  1.10066615]\n"
     ]
    }
   ],
   "source": [
    "def exponential(t,a,b):\n",
    "    return a*(b**t)\n",
    "\n",
    "t = np.arange(0,len(canada),1)\n",
    "y = np.array(canada['total_cases'])\n",
    "popt, pcov = opt.curve_fit(exponential,t,y)\n",
    "print(popt)"
   ]
  },
  {
   "cell_type": "markdown",
   "metadata": {},
   "source": [
    "The exponential equation is:\n",
    "$$y(t) = 1.177 \\cdot 1.101^t$$"
   ]
  },
  {
   "cell_type": "code",
   "execution_count": 7,
   "metadata": {},
   "outputs": [
    {
     "data": {
      "image/png": "[encoded data removed]",
      "text/plain": [
       "<Figure size 576x360 with 1 Axes>"
      ]
     },
     "metadata": {
      "needs_background": "light"
     },
     "output_type": "display_data"
    }
   ],
   "source": [
    "date = canada['date'].append(canada['date']+pd.DateOffset(days=len(canada)))\n",
    "plt.figure(figsize=(8,5))\n",
    "sns.scatterplot(canada['date'],canada['total_cases'],color='red',label='Data')\n",
    "sns.lineplot(date,exponential(np.arange(0,len(date),1),*popt),color='green',label='Exponential Model')\n",
    "plt.xlim(min(date),max(date))\n",
    "plt.ylim(0,50000)\n",
    "plt.title('COVID-19 Cases Canada')\n",
    "plt.show()"
   ]
  },
  {
   "cell_type": "code",
   "execution_count": 8,
   "metadata": {},
   "outputs": [
    {
     "name": "stdout",
     "output_type": "stream",
     "text": [
      "date: 2020-04-12 00:00:00 cases: 22984.0\n",
      "Projected Max Cases: 45968.0\n"
     ]
    }
   ],
   "source": [
    "# 63 day delay, and 40 days to peak: Total cases at 22133.\n",
    "maxgrowthday = 103 # actually 104th day since python indices start at 0\n",
    "#maxgrowthcases = canada.loc[maxgrowthday,:]['total_cases']\n",
    "maxgrowthcases = exponential(maxgrowthday,*popt)\n",
    "estimatedmaxcases = maxgrowthcases*2\n",
    "print('date:',canada.loc[maxgrowthday,:]['date'],'cases:',maxgrowthcases.round())\n",
    "print('Projected Max Cases:',estimatedmaxcases.round())"
   ]
  },
  {
   "cell_type": "markdown",
   "metadata": {},
   "source": [
    "The exponential model in Figure 3 has the coefficients $y_0 = 1.177, b = 1.101$. \\newline Equation 2 can be filled in as:\n",
    "\n",
    "\\begin{equation}\n",
    "y(t) = 1.177 \\cdot 1.101^t\n",
    "\\end{equation} \n",
    "\n",
    "If Canada's cases were to reach the peak around the same time as China but with the 63 day lag, that means the maximum growth rate would occur at $t = 40+63 = 103$ days (April 12). The exponential model gives the number of cases y(t) as 22,984. Now if we were to extrapolate the data points, using a logistic model then we expect the value of $c$ from equation 1 to be twice that of 22,984, which is 45,968. This would represent the upper bound of cases in Canada given by the model. This is not a hard limit however, as we note from China's graph that some data points did go over, but it is a good guide for estimating when we will see a plateau.\n",
    "\n",
    "Cases in China surpassed the theoretical upper bound of $c = 81684$ on March 26, which is 46 days after their maximum growth rate date of February 9. If Canada follows the same social distancing and self isolation protocols as China, then the theoretical upper limit of cases in Canada may be reached on May 28."
   ]
  },
  {
   "cell_type": "markdown",
   "metadata": {},
   "source": [
    "# Discussion"
   ]
  },
  {
   "cell_type": "markdown",
   "metadata": {},
   "source": [
    "Using a logistic model for China we determined the date on which the maximum growth rate in COVID-19 cases occurred. The total cases recorded on February 9 is about half of their current reported cases. Applying this principle to Canada, we estimated that the peak growth rate occured on April 12 (roughly 23,000 cases), so we expect that the upper bound of cases will be about 46,000 on May 28.\n",
    "\n",
    "The main limitations of this analysis is that we cannot control for unexpected scenarios. We do not know when the government will decide to reopen more businesses and schools, or whether there are enough tests being administered. There is expected to be a large margin of error, but perhaps we can get a good look into the future about 6 weeks from the time of writing. "
   ]
  },
  {
   "cell_type": "markdown",
   "metadata": {},
   "source": []
  }
 ],
 "metadata": {
  "kernelspec": {
   "display_name": "Python 3",
   "language": "python",
   "name": "python3"
  },
  "language_info": {
   "codemirror_mode": {
    "name": "ipython",
    "version": 3
   },
   "file_extension": ".py",
   "mimetype": "text/x-python",
   "name": "python",
   "nbconvert_exporter": "python",
   "pygments_lexer": "ipython3",
   "version": "3.7.3"
  }
 },
 "nbformat": 4,
 "nbformat_minor": 2
}
